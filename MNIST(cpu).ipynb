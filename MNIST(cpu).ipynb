{
  "nbformat": 4,
  "nbformat_minor": 0,
  "metadata": {
    "colab": {
      "name": "Copy of Copy of Untitled8.ipynb",
      "version": "0.3.2",
      "provenance": [],
      "collapsed_sections": []
    },
    "kernelspec": {
      "name": "python3",
      "display_name": "Python 3"
    }
  },
  "cells": [
    {
      "cell_type": "code",
      "metadata": {
        "id": "GXQ8qZ0qekh4",
        "colab_type": "code",
        "colab": {}
      },
      "source": [
        "###WARNING : this version is really slow !!  please use GPU version\n",
        "\n",
        "#import packages\n",
        "\n",
        "import numpy as np\n",
        "import torch\n",
        "import matplotlib.pyplot as plt\n",
        "import torchvision.datasets as datasets\n",
        "import torchvision.datasets as datasets\n",
        "from torchvision import transforms"
      ],
      "execution_count": 0,
      "outputs": []
    },
    {
      "cell_type": "code",
      "metadata": {
        "id": "nip4Na9He_4x",
        "colab_type": "code",
        "colab": {}
      },
      "source": [
        "# create a network\n",
        "\n",
        "class convl(torch.nn.Module):\n",
        "  def  __init__(self,input_channel,output_classes):\n",
        "    super().__init__()\n",
        "    \n",
        "#     input:  torch.Size([batch_size, input_channel, 28, 28]) ->[batch_size, 1, 28, 28]\n",
        "\n",
        "    #padding default= 0 , stride default= 1\n",
        "    self.conv1=torch.nn.Conv2d(input_channel,20,kernel_size=3)# input_channel=1 , 20=number of filter\n",
        "    self.relu1=torch.nn.ReLU() # size =  torch.Size([batch_size, 20, 26, 26])\n",
        "    \n",
        "    self.conv2=torch.nn.Conv2d(20,30,kernel_size=5) \n",
        "    self.relu2=torch.nn.ReLU()# size =  torch.Size([batch_size, 30, 22, 22])\n",
        "    self.drop2=torch.nn.Dropout2d(p=0.5)# p = probability of being off\n",
        "    self.maxPool2=torch.nn.MaxPool2d(2)# 2 = kernel_size | default stride here is kenrel size=2\n",
        "    # size =  torch.Size([batch_size, 30, 11, 11])\n",
        "    \n",
        "    \n",
        "    \n",
        "    self.fc1=torch.nn.Linear(3630,500) # 30*11*11=3630\n",
        "    self.fc2=torch.nn.Linear(500,output_classes)\n",
        "    \n",
        "    \n",
        "  def forward(self,x):\n",
        "    out=self.conv1(x)\n",
        "    out=self.relu1(out)\n",
        "    out=self.conv2(out)\n",
        "    out=self.relu2(out)\n",
        "    out=self.drop2(out)\n",
        "    out=self.maxPool2(out) \n",
        "    \n",
        "    out=out.view(-1,3630)\n",
        "    #torch.Size([batch_size, 3630])\n",
        "\n",
        "    out=self.fc1(out)\n",
        "    out=torch.nn.functional.relu(out)\n",
        "    out=self.fc2(out)\n",
        "    #torch.Size([batch_size, 10])\n",
        "    \n",
        "    return out\n",
        "  \n",
        " \n",
        "    "
      ],
      "execution_count": 0,
      "outputs": []
    },
    {
      "cell_type": "code",
      "metadata": {
        "id": "1uZxRbukhkwN",
        "colab_type": "code",
        "outputId": "1a2b08bc-0133-49cf-937a-ce726eac955b",
        "colab": {
          "base_uri": "https://localhost:8080/",
          "height": 381
        }
      },
      "source": [
        "model=convl(1,10)\n",
        "print(model)\n",
        "\n",
        "#print parameters size\n",
        "print(\"\\nParameters size: \")\n",
        "for param in model.parameters():\n",
        "  print(param.shape)"
      ],
      "execution_count": 3,
      "outputs": [
        {
          "output_type": "stream",
          "text": [
            "convl(\n",
            "  (conv1): Conv2d(1, 20, kernel_size=(3, 3), stride=(1, 1))\n",
            "  (relu1): ReLU()\n",
            "  (conv2): Conv2d(20, 30, kernel_size=(5, 5), stride=(1, 1))\n",
            "  (relu2): ReLU()\n",
            "  (drop2): Dropout2d(p=0.5)\n",
            "  (maxPool2): MaxPool2d(kernel_size=2, stride=2, padding=0, dilation=1, ceil_mode=False)\n",
            "  (fc1): Linear(in_features=3630, out_features=500, bias=True)\n",
            "  (fc2): Linear(in_features=500, out_features=10, bias=True)\n",
            ")\n",
            "\n",
            "Parameters size: \n",
            "torch.Size([20, 1, 3, 3])\n",
            "torch.Size([20])\n",
            "torch.Size([30, 20, 5, 5])\n",
            "torch.Size([30])\n",
            "torch.Size([500, 3630])\n",
            "torch.Size([500])\n",
            "torch.Size([10, 500])\n",
            "torch.Size([10])\n"
          ],
          "name": "stdout"
        }
      ]
    },
    {
      "cell_type": "code",
      "metadata": {
        "id": "18Z0G2cFiDTR",
        "colab_type": "code",
        "colab": {}
      },
      "source": [
        "criterion=torch.nn.CrossEntropyLoss()\n",
        "optimizer=torch.optim.SGD(model.parameters(),lr=0.01)\n"
      ],
      "execution_count": 0,
      "outputs": []
    },
    {
      "cell_type": "code",
      "metadata": {
        "id": "E8KAkoNLm5VO",
        "colab_type": "code",
        "outputId": "8f8ed9b7-954e-4a70-8635-faf7bb1a912a",
        "colab": {
          "base_uri": "https://localhost:8080/",
          "height": 305
        }
      },
      "source": [
        "#dataset \n",
        "\n",
        "mytransform = transforms.Compose([\n",
        "   \n",
        "    transforms.ToTensor()\n",
        "])\n",
        "mnist_trainset = datasets.MNIST(root='./data', train=True, download=True, transform=mytransform)\n",
        "mnist_testset =  datasets.MNIST(root='./data', train=False, download=True, transform=mytransform)\n",
        "print(\"Number of train samples: \",len(mnist_trainset))\n",
        "print(\"Number of test samples: \",len(mnist_testset))\n",
        "# first X in train set:  mnist_trainset[0][0] -> torch.Size([1, 28, 28])\n",
        "# first y in train set:  mnist_trainset[0][1] -> int 5\n",
        "\n",
        "#showing fist sample\n",
        "plt.imshow(mnist_trainset[0][0].reshape(28,28).numpy(),cmap='gray')\n",
        "\n",
        "\n",
        "\n",
        "train_loader = torch.utils.data.DataLoader(\n",
        "                 dataset=mnist_trainset,\n",
        "                 batch_size=20,\n",
        "                 shuffle=True)\n",
        "test_loader = torch.utils.data.DataLoader(\n",
        "                dataset=mnist_testset,\n",
        "                batch_size=20,\n",
        "                shuffle=False)\n",
        "\n"
      ],
      "execution_count": 5,
      "outputs": [
        {
          "output_type": "stream",
          "text": [
            "Number of train samples:  60000\n",
            "Number of test samples:  10000\n"
          ],
          "name": "stdout"
        },
        {
          "output_type": "display_data",
          "data": {
            "image/png": "[encoded data removed]",
            "text/plain": [
              "<Figure size 432x288 with 1 Axes>"
            ]
          },
          "metadata": {
            "tags": []
          }
        }
      ]
    },
    {
      "cell_type": "code",
      "metadata": {
        "id": "qG-0t1yNJiIf",
        "colab_type": "code",
        "colab": {}
      },
      "source": [
        "# create batches:\n",
        "def create_batches():\n",
        "  train_loader = torch.utils.data.DataLoader(\n",
        "                   dataset=mnist_trainset,\n",
        "                   batch_size=20,\n",
        "                   shuffle=True)\n",
        "  test_loader = torch.utils.data.DataLoader(\n",
        "                  dataset=mnist_testset,\n",
        "                  batch_size=len(mnist_testset),\n",
        "                  shuffle=False)# just 1 batch for testset\n",
        "  return (train_loader,test_loader)\n",
        "# bottom lines show how to access to the batches\n",
        "# for batchNumber, (x, y) in enumerate(train_loader):\n",
        "#   pass\n",
        "############COMMENTS#########\n",
        "###   batchNumber = number of batch ->  (int)\n",
        "###   x -> torch.Size([batch_size,1,28,28)\n",
        "###   y -> torch.Size([batch_size])"
      ],
      "execution_count": 0,
      "outputs": []
    },
    {
      "cell_type": "code",
      "metadata": {
        "id": "538Y81afbOMO",
        "colab_type": "code",
        "colab": {}
      },
      "source": [
        "# calculating accuracy\n",
        "\n",
        "def cal_accuracy(pred_classes,real_classes):#  shape -> both : [number of test samples,1]  or both : [number of test samples,]\n",
        "  bool_array=(pred_classes==real_classes) # example: bool_array=[True, False, True, False, True]\n",
        "  True_pred_counts=np.count_nonzero(bool_array) # count number of Trues in [True, False, True, False, True]\n",
        "  \n",
        "  return True_pred_counts/pred_classes.shape[0]"
      ],
      "execution_count": 0,
      "outputs": []
    },
    {
      "cell_type": "code",
      "metadata": {
        "id": "U3t71JnnY1JC",
        "colab_type": "code",
        "colab": {}
      },
      "source": [
        "# Train and test\n",
        "\n",
        "num_epochs=5\n",
        "testacc=[]\n",
        "for i in range(num_epochs):\n",
        "  train_loader,test_loader=create_batches()\n",
        "  for batchNumber, (x, y) in enumerate(train_loader):\n",
        "    X=torch.autograd.Variable(torch.FloatTensor(x)) #x and X:torch.Size([batch_size, 1, 28, 28]) \n",
        "    Y=torch.autograd.Variable(torch.LongTensor(y))  #y and Y:torch.Size([batch_size]) \n",
        "    \n",
        "    model.train() \n",
        "    outputs=model(X)#output: torch.Size([batchsize, 10]) | 10 is number of output neurons\n",
        "    loss=criterion(outputs,Y)\n",
        "    optimizer.zero_grad()\n",
        "    loss.backward()\n",
        "    optimizer.step()\n",
        "    \n",
        "\n",
        "    \n",
        "    \n",
        "  ##test at end of each epoch\n",
        "  for batchNumber, (x, y) in enumerate(test_loader):\n",
        "    test_pred=model(torch.FloatTensor(x)) # x: torch.Size([10000, 1, 28, 28]) | test_pred : torch.Size([10000, 10])\n",
        "    pred_classes=torch.max(test_pred.data, 1)[1]# torch.Size([10000])\n",
        "    acc=cal_accuracy(np.array(pred_classes),y.numpy()) #y: torch.Size([10000]) | y.numpy() -> (10000,)\n",
        "    testacc.append(acc*100)\n",
        "  \n",
        "  \n"
      ],
      "execution_count": 0,
      "outputs": []
    },
    {
      "cell_type": "code",
      "metadata": {
        "id": "NM87Fj_JdH-s",
        "colab_type": "code",
        "outputId": "2724149e-b6a0-465f-f99e-9baa03e92543",
        "colab": {
          "base_uri": "https://localhost:8080/",
          "height": 514
        }
      },
      "source": [
        "#plotting test accuracy\n",
        "\n",
        "\n",
        "fig = plt.figure(figsize=(12, 8))\n",
        "plt.plot([i for i in range(int(num_epochs))],testacc)\n",
        "plt.title(\"Test Accuracy\")\n",
        "plt.xlabel(\"Epohs\")\n",
        "plt.ylabel(\"accuracy in % \")\n",
        "plt.show()"
      ],
      "execution_count": 9,
      "outputs": [
        {
          "output_type": "display_data",
          "data": {
            "image/png": "[encoded data removed]",
            "text/plain": [
              "<Figure size 864x576 with 1 Axes>"
            ]
          },
          "metadata": {
            "tags": []
          }
        }
      ]
    },
    {
      "cell_type": "code",
      "metadata": {
        "id": "4OGWw_EgXOB1",
        "colab_type": "code",
        "outputId": "f662c57c-a18b-4d21-c210-211a4bc71727",
        "colab": {
          "base_uri": "https://localhost:8080/",
          "height": 305
        }
      },
      "source": [
        "# check 130th sample of test\n",
        "plt.imshow(mnist_testset[129][0].reshape(28,28).numpy(),cmap='gray')\n",
        "print('label: ', mnist_testset[129][1])\n",
        "print('model prediction: ', np.array(pred_classes)[129])"
      ],
      "execution_count": 0,
      "outputs": [
        {
          "output_type": "stream",
          "text": [
            "label:  5\n",
            "model prediction:  5\n"
          ],
          "name": "stdout"
        },
        {
          "output_type": "display_data",
          "data": {
            "image/png": "[encoded data removed]",
            "text/plain": [
              "<Figure size 432x288 with 1 Axes>"
            ]
          },
          "metadata": {
            "tags": []
          }
        }
      ]
    },
    {
      "cell_type": "code",
      "metadata": {
        "id": "mdewUQOAebbO",
        "colab_type": "code",
        "colab": {}
      },
      "source": [
        ""
      ],
      "execution_count": 0,
      "outputs": []
    }
  ]
}